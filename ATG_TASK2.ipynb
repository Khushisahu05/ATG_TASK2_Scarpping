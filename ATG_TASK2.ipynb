{
  "nbformat": 4,
  "nbformat_minor": 0,
  "metadata": {
    "colab": {
      "provenance": []
    },
    "kernelspec": {
      "name": "python3",
      "display_name": "Python 3"
    },
    "language_info": {
      "name": "python"
    }
  },
  "cells": [
    {
      "cell_type": "code",
      "source": [
        "!pip install flashtext"
      ],
      "metadata": {
        "colab": {
          "base_uri": "https://localhost:8080/"
        },
        "id": "wmnMLdx3N98x",
        "outputId": "e22abdee-e54e-4ddf-a585-3e5f67e4bcc1"
      },
      "execution_count": 7,
      "outputs": [
        {
          "output_type": "stream",
          "name": "stdout",
          "text": [
            "Looking in indexes: https://pypi.org/simple, https://us-python.pkg.dev/colab-wheels/public/simple/\n",
            "Requirement already satisfied: flashtext in /usr/local/lib/python3.7/dist-packages (2.7)\n"
          ]
        }
      ]
    },
    {
      "cell_type": "code",
      "source": [
        "!pip install html2text "
      ],
      "metadata": {
        "colab": {
          "base_uri": "https://localhost:8080/"
        },
        "id": "UJ21wsB3xEF7",
        "outputId": "f6df4c5b-ca86-4d36-c487-f25c0b8d2877"
      },
      "execution_count": 8,
      "outputs": [
        {
          "output_type": "stream",
          "name": "stdout",
          "text": [
            "Looking in indexes: https://pypi.org/simple, https://us-python.pkg.dev/colab-wheels/public/simple/\n",
            "Requirement already satisfied: html2text in /usr/local/lib/python3.7/dist-packages (2020.1.16)\n"
          ]
        }
      ]
    },
    {
      "cell_type": "code",
      "source": [
        "import requests\n",
        "from bs4 import BeautifulSoup\n",
        "import html2text\n",
        "from flashtext.keyword import KeywordProcessor\n",
        "from matplotlib import pyplot as plt"
      ],
      "metadata": {
        "id": "CHcZUJXKiyX1"
      },
      "execution_count": 9,
      "outputs": []
    },
    {
      "cell_type": "code",
      "source": [
        "health_class = ['calories','fitness','help','covid','vaccine','better','health','hospital','care','emergency','energy']\n",
        "tech_class = ['technology','code','pay','delivery','dine-out','magic','save','voucher','deal','shop','free','off','tax','iis','api']\n",
        "education_class = ['education','coaching','career','study','exams','result','admissions','ug','pg','program','university','course','certification']\n",
        "sport_class = ['cricket','world cup','out','win','caption','six','four','sport','football','fifa','champion','league','betting','toss',]\n",
        "keywords=health_class + tech_class + education_class + sport_class"
      ],
      "metadata": {
        "id": "4isc5rp6Ntak"
      },
      "execution_count": 10,
      "outputs": []
    },
    {
      "cell_type": "code",
      "execution_count": 11,
      "metadata": {
        "id": "vpfNEP8BKONW"
      },
      "outputs": [],
      "source": [
        "#here, is a list of website \n",
        "ls_url = ['https://www.sportskeeda.com','https://www.healthifyme.com/','https://nsktu.ac.in/','https://www.etsy.com','https://magicpin.in','https://www.cricbuzz.com','https://www.iis.net/','https://www.edureka.co/','https://www.helpmecovid.com']\n",
        "\n",
        "ls = []\n",
        "for i in ls_url:\n",
        "  try:\n",
        "      page = requests.get(i)       \n",
        "      html_code = page.content        \n",
        "  except Exception as e:\n",
        "      print(e)\n",
        "\n",
        "  try:\n",
        "      soup = BeautifulSoup(html_code, 'html.parser')  \n",
        "      texts = soup.findAll(text=True)                 \n",
        "      text_from_html = ' '.join(texts)                   \n",
        "  except Exception as e:\n",
        "      print(e)\n",
        "\n",
        "  h = html2text.HTML2Text()              \n",
        "  h.ignore_links = True    \n",
        "  try:                 \n",
        "      text = h.handle(text_from_html)            \n",
        "      text_from_html=text.strip('\\n').lower() \n",
        "\n",
        "  except Exception as e:\n",
        "      print(e)\n",
        "\n",
        "  kp0=KeywordProcessor()\n",
        "  for word in keywords:\n",
        "      kp0.add_keyword(word)\n",
        "  kp1=KeywordProcessor()\n",
        "  for word in health_class:\n",
        "      kp1.add_keyword(word)\n",
        "  kp2=KeywordProcessor()\n",
        "  for word in tech_class:\n",
        "      kp2.add_keyword(word)\n",
        "  kp3=KeywordProcessor()\n",
        "  for word in education_class:\n",
        "      kp3.add_keyword(word)\n",
        "  kp4=KeywordProcessor()\n",
        "  for word in sport_class:\n",
        "      kp4.add_keyword(word)\n",
        "\n",
        "  def finalize_category(dum0,dumx):\n",
        "      try:\n",
        "          ans=float(dumx)/float(dum0)\n",
        "          ans=ans*100\n",
        "      except:\n",
        "          return 0\n",
        "      else:\n",
        "          return ans\n",
        "\n",
        "  def find_class():\n",
        "      x=str(text_from_html)\n",
        "      y0 = len(kp0.extract_keywords(x))\n",
        "      y1 = len(kp1.extract_keywords(x))\n",
        "      y2 = len(kp2.extract_keywords(x))\n",
        "      y3 = len(kp3.extract_keywords(x))\n",
        "      y4 = len(kp4.extract_keywords(x))\n",
        "      Total_matches=y0   \n",
        "      per1 = float(finalize_category(y0,y1))\n",
        "      per2 = float(finalize_category(y0,y2))\n",
        "      per3 = float(finalize_category(y0,y3))\n",
        "      per4 = float(finalize_category(y0,y4))\n",
        "\n",
        "      list = [per1,per2,per3,per4]\n",
        "      maxi = max(list)\n",
        "      if y0==0:\n",
        "          Category='None'\n",
        "      else:\n",
        "          if maxi==per1:\n",
        "              Category='Health'\n",
        "          elif maxi==per2:\n",
        "              Category='Tech'\n",
        "          elif maxi==per3:\n",
        "              Category='Education'\n",
        "          elif maxi==per4:\n",
        "              Category='Sport' \n",
        "      ls.append(Category)\n",
        "\n",
        "  find_class()\n"
      ]
    },
    {
      "cell_type": "code",
      "source": [],
      "metadata": {
        "id": "jGmKFSprmN57"
      },
      "execution_count": null,
      "outputs": []
    },
    {
      "cell_type": "code",
      "source": [
        "list1 = ['Health','Tech','Education','Sport']\n",
        "from collections import Counter \n",
        "main =[]\n",
        "for i in list1:\n",
        "    d = Counter(ls)\n",
        "    main.append(d[i])\n",
        "plt.figure(figsize=(7,6))\n",
        "plt.bar(list1,main,color='Maroon')\n",
        "\n",
        "\n"
      ],
      "metadata": {
        "colab": {
          "base_uri": "https://localhost:8080/",
          "height": 391
        },
        "id": "WX7qShGZK_Bl",
        "outputId": "5d2d53b2-155f-47dd-81df-8c1e0c5bd755"
      },
      "execution_count": 12,
      "outputs": [
        {
          "output_type": "execute_result",
          "data": {
            "text/plain": [
              "<BarContainer object of 4 artists>"
            ]
          },
          "metadata": {},
          "execution_count": 12
        },
        {
          "output_type": "display_data",
          "data": {
            "text/plain": [
              "<Figure size 504x432 with 1 Axes>"
            ],
            "image/png": "[encoded data removed]"
          },
          "metadata": {
            "needs_background": "light"
          }
        }
      ]
    }
  ]
}